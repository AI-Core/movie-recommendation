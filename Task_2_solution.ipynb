{
  "nbformat": 4,
  "nbformat_minor": 0,
  "metadata": {
    "colab": {
      "provenance": [],
      "authorship_tag": "ABX9TyMJNyFKMNBdR1BHLA+M5/iR",
      "include_colab_link": true
    },
    "kernelspec": {
      "name": "python3",
      "display_name": "Python 3"
    },
    "language_info": {
      "name": "python"
    }
  },
  "cells": [
    {
      "cell_type": "markdown",
      "metadata": {
        "id": "view-in-github",
        "colab_type": "text"
      },
      "source": [
        "<a href=\"https://colab.research.google.com/github/AI-Core/movie-recommendation/blob/main/Task_2_solution.ipynb\" target=\"_parent\"><img src=\"https://colab.research.google.com/assets/colab-badge.svg\" alt=\"Open In Colab\"/></a>"
      ]
    },
    {
      "cell_type": "code",
      "execution_count": null,
      "metadata": {
        "id": "drfrgxyZVarI"
      },
      "outputs": [],
      "source": [
        "import ast\n",
        "\n",
        "def open_movies_file():\n",
        "    with open('movies.txt', encoding='ISO-8859-1') as movies_file:\n",
        "      data = movies_file.read()\n",
        "      print(type(data))\n",
        "      print(data)\n",
        "\n",
        "    movies = ast.literal_eval(data)\n",
        "    print(type(movies))\n",
        "    print(len(movies))\n",
        "    return movies\n"
      ]
    }
  ]
}