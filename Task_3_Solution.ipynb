{
  "nbformat": 4,
  "nbformat_minor": 0,
  "metadata": {
    "colab": {
      "provenance": [],
      "authorship_tag": "ABX9TyPtoXYqVQje+3b5xaNbcNo0",
      "include_colab_link": true
    },
    "kernelspec": {
      "name": "python3",
      "display_name": "Python 3"
    },
    "language_info": {
      "name": "python"
    }
  },
  "cells": [
    {
      "cell_type": "markdown",
      "metadata": {
        "id": "view-in-github",
        "colab_type": "text"
      },
      "source": [
        "<a href=\"https://colab.research.google.com/github/AI-Core/movie-recommendation/blob/main/Task_3_Solution.ipynb\" target=\"_parent\"><img src=\"https://colab.research.google.com/assets/colab-badge.svg\" alt=\"Open In Colab\"/></a>"
      ]
    },
    {
      "cell_type": "code",
      "execution_count": null,
      "metadata": {
        "id": "UxVWUHOuV1KQ"
      },
      "outputs": [],
      "source": [
        "movie_genres = ['Drama', 'Crime', 'Action', 'Biography', 'Adventure', 'Comedy',\n",
        "       'Animation', 'Horror', 'Western', 'Mystery', 'Film-Noir']\n",
        "genres = [genre.lower() for genre in movie_genres]\n",
        "print(genres)"
      ]
    }
  ]
}