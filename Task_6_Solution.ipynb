{
  "nbformat": 4,
  "nbformat_minor": 0,
  "metadata": {
    "colab": {
      "provenance": [],
      "authorship_tag": "ABX9TyO0QYTRWOcGDFLRdbbAnLs5",
      "include_colab_link": true
    },
    "kernelspec": {
      "name": "python3",
      "display_name": "Python 3"
    },
    "language_info": {
      "name": "python"
    }
  },
  "cells": [
    {
      "cell_type": "markdown",
      "metadata": {
        "id": "view-in-github",
        "colab_type": "text"
      },
      "source": [
        "<a href=\"https://colab.research.google.com/github/AI-Core/movie-recommendation/blob/main/Task_6_Solution.ipynb\" target=\"_parent\"><img src=\"https://colab.research.google.com/assets/colab-badge.svg\" alt=\"Open In Colab\"/></a>"
      ]
    },
    {
      "cell_type": "code",
      "execution_count": null,
      "metadata": {
        "id": "Cw_OeR-EcZ6P"
      },
      "outputs": [],
      "source": [
        "from time import sleep\n",
        "def get_movie(movie_info):\n",
        "        movie_choice = input('which movie would you love to watch? ').lower()\n",
        "        for index, value in enumerate(movie_info):\n",
        "            if value[0].lower() == movie_choice:\n",
        "                print()\n",
        "                print(f'About the movie: {movie_choice}')\n",
        "                for i in value[2].split(' '):\n",
        "                    print(i, end=' ', flush=True)\n",
        "                    sleep(0.25)\n",
        "                print()\n",
        "                message = input('Do you want to watch the movie trailer? Yes(y) / No(n) ').lower()\n",
        "                if message in 'yes':\n",
        "                  movie_url = value[1]\n",
        "                  print(f'Watch Here {movie_url}')\n",
        "                else:\n",
        "                    print('Thank you for your time.')\n",
        "\n"
      ]
    }
  ]
}