{
  "nbformat": 4,
  "nbformat_minor": 0,
  "metadata": {
    "colab": {
      "provenance": [],
      "authorship_tag": "ABX9TyPB2P2yoySab+5sRN9d0olu",
      "include_colab_link": true
    },
    "kernelspec": {
      "name": "python3",
      "display_name": "Python 3"
    },
    "language_info": {
      "name": "python"
    }
  },
  "cells": [
    {
      "cell_type": "markdown",
      "metadata": {
        "id": "view-in-github",
        "colab_type": "text"
      },
      "source": [
        "<a href=\"https://colab.research.google.com/github/AI-Core/movie-recommendation/blob/main/Task_4_Solution.ipynb\" target=\"_parent\"><img src=\"https://colab.research.google.com/assets/colab-badge.svg\" alt=\"Open In Colab\"/></a>"
      ]
    },
    {
      "cell_type": "code",
      "execution_count": null,
      "metadata": {
        "id": "YklleLYeWOFs"
      },
      "outputs": [],
      "source": [
        "from pprint import pprint\n",
        "def choose_genre():\n",
        "        pprint(genres)\n",
        "        chosen_genre = input(f'choose a genre from the above list of genres:').lower() \n",
        "        while chosen_genre not in genres:\n",
        "            print('invalid genre name. Please enter a valid name') \n",
        "            chosen_genre = input(f'choose a genre from this list of genres: {genres} ').lower() \n",
        "        \n",
        "        return chosen_genre\n",
        "\n",
        "choose_genre()"
      ]
    }
  ]
}