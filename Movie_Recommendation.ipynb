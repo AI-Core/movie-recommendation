{
  "cells": [
    {
      "cell_type": "markdown",
      "metadata": {
        "id": "view-in-github",
        "colab_type": "text"
      },
      "source": [
        "<a href=\"https://colab.research.google.com/github/AI-Core/movie-recommendation/blob/main/Movie_Recommendation.ipynb\" target=\"_parent\"><img src=\"https://colab.research.google.com/assets/colab-badge.svg\" alt=\"Open In Colab\"/></a>"
      ]
    },
    {
      "cell_type": "markdown",
      "source": [
        "# Introduction\n",
        "\n",
        "This is an interesting program that recommends movies to users based on the genre of movie selected by the user.\n",
        "- The program asks users to choose a movie genre from a list of genres\n",
        "- It then displays a list of movies belonging to the genre of movie that was chosen by the user\n",
        "- It asks the user to choose a movie from the list of movies displayed\n",
        "- Then, it prints out the description of the chosen movie and asks if the user would like to watch the movie trailer\n",
        "- If the user choses to watch the movie trailer, it diplays the movie url which the user can then click on to launch the movie website."
      ],
      "metadata": {
        "id": "B8YHDqh2gPOj"
      }
    },
    {
      "cell_type": "markdown",
      "source": [
        "## Task 1: Load the movies file\n",
        "- Run the line of code below to load the `movies.txt` file into your google colab environment. This file contains the title, genre, description and url of 250 movies.\n",
        "- After running the code, you should see a `movies.txt` file created inside the colab's files folder (click on the orange folder icon on the left to view the file). "
      ],
      "metadata": {
        "id": "xum94ihKmbuv"
      }
    },
    {
      "cell_type": "code",
      "source": [
        "!wget https://raw.githubusercontent.com/AI-Core/movie-recommendation/main/movies.txt"
      ],
      "metadata": {
        "id": "UuXGnErXctBD"
      },
      "execution_count": null,
      "outputs": []
    },
    {
      "cell_type": "markdown",
      "source": [
        "# Task 2: Open the movies file and read the contents\n",
        "\n",
        "Write code that will open the provided `movies.txt` file, read the contents of the file and convert the contents from `string` to `dictionary`.  \n",
        "\n",
        "**Step 1:** import the `ast` module. \n",
        "- The `ast` module is a Python built-in method that contains a `literal_eval` method which can be used to efficiently evaluate a string object to a dictionary object. Read more about the `ast` module here: https://docs.python.org/3/library/ast.html\n",
        "\n",
        "**Step 2:** Use Python's context manager to open the `movies.txt` file as `movies_file`.\n",
        "\n",
        "**Step 3:** Read the content of the file and save it in a variable called `data`\n",
        "       \n",
        "**Step 4:** Print out the data type of `data`. The output should be `<class 'str'>`. \n",
        "\n",
        "**Step 5:** Print out the data. You will notice that the data is a string containing Python dictionaries.\n",
        "\n",
        "**Step 6:** Using the `literal_eval` method of the `ast` module, evaluate the data to a Python dictionary. Save this in a variable called `movies`. \n",
        "\n",
        "**Step 7:** Print out the data type of `movies`. The output should be <class 'dict'>\n",
        "\n",
        "**Step 8:** What is the total number of movies? If you got 250, you are on the right track. \n",
        "\n",
        "**Step 9:** Put all the above codes in a function called `open_movies_file`\n",
        "\n",
        "**Step 10:** Return the `movies` object from the function\n",
        "\n",
        "**Step 11:** Now that you are sure that your code works as expected, comment out all the `print()` functions and proceed to the next task.\n",
        "\n"
      ],
      "metadata": {
        "id": "waDdZGtcoqBx"
      }
    },
    {
      "cell_type": "code",
      "source": [
        "# Provide Your Solution Here"
      ],
      "metadata": {
        "id": "zEGc8OZYQ-4S"
      },
      "execution_count": null,
      "outputs": []
    },
    {
      "cell_type": "markdown",
      "source": [
        "# Task 3 : Create a list of genres\n",
        "\n",
        "**Step 1:** Create a list containing these movie genres : \n",
        "  - 'Drama', 'Crime', 'Action', 'Biography', 'Adventure', 'Comedy',\n",
        "       'Animation', 'Horror', 'Western', 'Mystery', 'Film-Noir'\n",
        "  - Store the list to a variable called `movie_genres`\n",
        "\n",
        "**Step 2:** Specifically using list comprehension, change each movie genre to lowercase. Assign the new list of lowercased genres to a variable called `genres`.\n",
        "\n",
        "**Step 1:** Print out the list of genres to be sure that they are all in lowercase. If you are satisfied with the output, feel free to delete the `print()` function."
      ],
      "metadata": {
        "id": "YqbjnX3wkciv"
      }
    },
    {
      "cell_type": "code",
      "source": [
        "# Provide Your Solution Here"
      ],
      "metadata": {
        "id": "DAFqD073apaZ",
        "colab": {
          "base_uri": "https://localhost:8080/"
        },
        "outputId": "ed387996-536a-4c94-ec6d-a53072d83426"
      },
      "execution_count": null,
      "outputs": [
        {
          "output_type": "stream",
          "name": "stdout",
          "text": [
            "['drama', 'crime', 'action', 'biography', 'adventure', 'comedy', 'animation', 'horror', 'western', 'mystery', 'film-noir']\n"
          ]
        }
      ]
    },
    {
      "cell_type": "markdown",
      "source": [
        "# Task 4: Create a function that asks users to choose a movie genre"
      ],
      "metadata": {
        "id": "7-DLPoIVzyWY"
      }
    },
    {
      "cell_type": "markdown",
      "source": [
        "**Step 1:** import the `pprint` function from the `pprint` module. \n",
        "- You will use this function, in place of the `print()` function, to print out a prettified output of the movie genres.\n",
        "\n",
        "**Step 2:** Define a function called `choose_genre` that takes no parameter.\n",
        "\n",
        "**Step 3:** Inside the function;\n",
        "1. Print out the list of genres\n",
        "2. Ask the user to choose a genre from the list of genres by passing this prompt \"choose a genre from the above list of genres:\" to the `input()` function. Call the `.lower()` method on the input to ensure that the user input is in lowercase. Save the input in a variable called `chosen_genre`.\n",
        "3. Create a `while` loop that runs while the `chosen_genre` is not in the list of genres. In the body of the loop;\n",
        "  1. Print a message to the user saying 'invalid genre name. Please enter a valid name'.\n",
        "  2. Ask the user to choose a genre, as in Step 3.2 above.\n",
        "\n",
        "**Step 4:** Return the `chosen_genre` from the function.\n",
        "\n",
        "**Step 5:** Call the `choose_genre()` function to test your code.\n",
        "\n",
        "**Step 6:** If you are satisfied with the output of the function, you can comment out the function call.\n"
      ],
      "metadata": {
        "id": "iX8DtjNsWpWw"
      }
    },
    {
      "cell_type": "code",
      "execution_count": null,
      "metadata": {
        "id": "bAuHTJmvJYSz"
      },
      "outputs": [],
      "source": [
        "# Provide Your Solution Here"
      ]
    },
    {
      "cell_type": "markdown",
      "source": [
        "# Task 5: Create a function that gets the information of the movies in the chosen genre .\n",
        "\n",
        "Step 1: Define a function called `get_movie_info` that takes the `chosen_genre` and `movies` as parameters. \n",
        "          \n",
        "Step 2: Within the function;\n",
        "\n",
        "1. Create 3 variables; `titles`, `descriptions`, and `movie_urls`. Initialise their repective value to an empty list.\n",
        "2. Check if the `chosen_genre` is in the list of genres.\n",
        "3. In the `if` block;\n",
        "    1. Create a `for` loop that loops through every values in the `movies` dictionary.\n",
        "    2. In the body of the `for` loop;\n",
        "        1. Create an `if` statement that checks if the value whose key is `genre` is equal to the `chosen_genre`. HINT: Remember that the values of the `movies` dictionary are also dictionaries whose keys are `title`, `description`, `genre`, `image_url`, and `image_link`. To Access the 'title', for instance, the syntax would be `v['title']`.\n",
        "        2. In the `if` block;\n",
        "            1. Assign the value whose key is 'title' to a variable called `title`\n",
        "            2. Assign the value whose key is 'description' to a variable called `description`\n",
        "            3. Assign the value whose key is 'movie_link' to a variable called `url`\n",
        "            4. Append the title to the empty list of `titles` initialised above.\n",
        "            5. Append the description to the empty list of `descriptions` initialised above.\n",
        "            6. Append the url to the empty list of `movie_links` initialised above.\n",
        "\n",
        "        3. Outside of the `for` loop, but still within the outer `if` block;\n",
        "              1. Zip the `titles`, `descriptions`, and `movie_links` together using Python's `zip` function. Assign this to a variable called `zipped_movies`.\n",
        "              2. Cast the `zipped_movies` into a list and store this in a variable called `movie_info`\n",
        "              3. Print a message saying 'Great choice!'\n",
        "              4. Print another message saying 'here is a list of `{len(titles)} {chosen_genre}` movies for your viewing pleasure:'\n",
        "              5. Print the movie `titles`.\n",
        "        4. Outside the outer `if` block, return the `movie_info`.\n"
      ],
      "metadata": {
        "id": "1keFIt2jXufZ"
      }
    },
    {
      "cell_type": "code",
      "source": [
        "# Provide Your Solution Here"
      ],
      "metadata": {
        "id": "0KQkpq9nZHhI"
      },
      "execution_count": null,
      "outputs": []
    },
    {
      "cell_type": "markdown",
      "source": [
        "# Task 6: Create a function to get selected movie\n",
        "\n",
        "**Step 1:** Define a function called `get_movie` that takes `movie_info` as parameter. \n",
        "          \n",
        "**Step 1:**Within the function;\n",
        "1. Take input from the user using the prompt 'which movie would you love to watch? '. Remember to ensure that the input is in lowercase. Save the user response in a variable called `movie_choice`.\n",
        "\n",
        "2. Using Python `enumerate()` function, iterate through the items in the `movie_info`. HINT: `movie_info` is a list of tuples. Each tuple contain the movie title, url, and description in that order. The `enumerate()` function will return this tuple as well as the indices of each item in the tuple.\n",
        "\n",
        "  1. In the body of the `for` loop, do the following; \n",
        "    1. Create a condition that checks if the first item in the tuple is equal to the `movie_choice`. HINT: individual items in a tuple can be accessed using indexing. Reme,ber to convert this to a lowercase.\n",
        "    2. Within the `if` block;\n",
        "        1. Print an empty line to create a visually appealing output.\n",
        "        2. Print a message saying 'About the movie: `{movie_choice}` Remember to use an f-string.\n",
        "        3. Create a `for` loop that loops through every character in every word in the movie description. HINT: The movie description is the second item in the tuple. All you need to do is to split the secod item in the tuple on an empty space to get individual words in the description, then loop through every character in the split words.\n",
        "        4. Inside the `for` loop;\n",
        "          1. Print out every character. In the `print()` function, set the `end` parameter to an empty space, and the `flush` parameter to `True`. This is to create an effect where every character in the movie description will be printed out one at a time.\n",
        "          2. wait for 0.5 second. Remember to import `sleep` from the `time` module.\n",
        "        5. Outside the `for` loop, but within the `if` block;\n",
        "          1. Print an empty line to get a clean output\n",
        "          2. Take an input from the user with the prompt 'Do you want to watch the movie trailer? Yes(y) / No(n) '. Call the `.lower()` method on the prompt and assign te response to a variable called message.\n",
        "          3. Check if the `message` is 'yes' or 'y'. In the `if` block:\n",
        "              1. Assign the third item in the tuple to a variable called `movie_url`. \n",
        "              2. Print a message saying 'Watch Movie Here: {movie_url}\n",
        "          4. Create an `else` statement that simply prints 'Thank you for your time.', if the user chooses not to watch the movie trailer.\n"
      ],
      "metadata": {
        "id": "YlUiy4iVHCq5"
      }
    },
    {
      "cell_type": "code",
      "source": [
        "# Provide Your Solution Here"
      ],
      "metadata": {
        "id": "xfMO_c1gQDuB"
      },
      "execution_count": null,
      "outputs": []
    },
    {
      "cell_type": "markdown",
      "source": [
        "## Task 7. Define a function to run your program\n",
        "\n",
        "**Step 1:** Define a function called `run_movie_app` that takes no parameter \n",
        "\n",
        "**Step 2:** Call the `open_movies_file()` function. Assign this to a variable called `movies`\n",
        "\n",
        "**Step 3:** Call the `choose_genre()` function. Assign this to a variable called `selected_genre`\n",
        "\n",
        "**Step 4:** Call the `get_movie_info()` function, pass in `selected_genre` and `movies` (in that order) as arguments to this function. Assign this to a variable called `movie_info`.\n",
        "\n",
        "**Step 5:** Call the `get_movie()` function on the `movie` object. Pass in the `movie_info` as argument to the function. \n",
        "\n",
        "**Step 6:** Call the `run_movie_app()` function to run your program.\n",
        "        "
      ],
      "metadata": {
        "id": "bYKnN7smvw8-"
      }
    },
    {
      "cell_type": "code",
      "source": [
        "# Provide Your Solution Here"
      ],
      "metadata": {
        "id": "K1s3oPRsVrBi"
      },
      "execution_count": null,
      "outputs": []
    }
  ],
  "metadata": {
    "colab": {
      "provenance": [],
      "authorship_tag": "ABX9TyPfcuXbQ8egXsc1pCIVb2WW",
      "include_colab_link": true
    },
    "kernelspec": {
      "display_name": "Python 3",
      "name": "python3"
    },
    "language_info": {
      "name": "python"
    }
  },
  "nbformat": 4,
  "nbformat_minor": 0
}