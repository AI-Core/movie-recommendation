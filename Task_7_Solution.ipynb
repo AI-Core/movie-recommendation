{
  "nbformat": 4,
  "nbformat_minor": 0,
  "metadata": {
    "colab": {
      "provenance": [],
      "authorship_tag": "ABX9TyOxQsKmZ7kv3e2rZ7qRB8Yn",
      "include_colab_link": true
    },
    "kernelspec": {
      "name": "python3",
      "display_name": "Python 3"
    },
    "language_info": {
      "name": "python"
    }
  },
  "cells": [
    {
      "cell_type": "markdown",
      "metadata": {
        "id": "view-in-github",
        "colab_type": "text"
      },
      "source": [
        "<a href=\"https://colab.research.google.com/github/AI-Core/movie-recommendation/blob/main/Task_7_Solution.ipynb\" target=\"_parent\"><img src=\"https://colab.research.google.com/assets/colab-badge.svg\" alt=\"Open In Colab\"/></a>"
      ]
    },
    {
      "cell_type": "code",
      "execution_count": null,
      "metadata": {
        "id": "rWZfJ12fZcFO"
      },
      "outputs": [],
      "source": [
        "def run_movie_app():\n",
        "\n",
        "    movies = open_movies_file()\n",
        "    selected_genre = choose_genre()\n",
        "    movie_info = get_movie_info(selected_genre, movies)\n",
        "    get_movie(movie_info)\n",
        "\n",
        "run_movie_app()\n"
      ]
    }
  ]
}