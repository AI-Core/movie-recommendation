{
  "nbformat": 4,
  "nbformat_minor": 0,
  "metadata": {
    "colab": {
      "provenance": [],
      "authorship_tag": "ABX9TyM/gKh5BYQNOVKFWhFo4pcT",
      "include_colab_link": true
    },
    "kernelspec": {
      "name": "python3",
      "display_name": "Python 3"
    },
    "language_info": {
      "name": "python"
    }
  },
  "cells": [
    {
      "cell_type": "markdown",
      "metadata": {
        "id": "view-in-github",
        "colab_type": "text"
      },
      "source": [
        "<a href=\"https://colab.research.google.com/github/AI-Core/movie-recommendation/blob/main/Task_5_Solution.ipynb\" target=\"_parent\"><img src=\"https://colab.research.google.com/assets/colab-badge.svg\" alt=\"Open In Colab\"/></a>"
      ]
    },
    {
      "cell_type": "code",
      "execution_count": null,
      "metadata": {
        "id": "s4RGWte8Y3Bu"
      },
      "outputs": [],
      "source": [
        "def get_movie_info(chosen_genre, movies):\n",
        "  \n",
        "  titles = []\n",
        "  movie_links = []\n",
        "  descriptions = []\n",
        "  if chosen_genre in genres:    \n",
        "      for v in movies.values():\n",
        "          v['genre'] = v['genre'].lower()\n",
        "          if v['genre'] == chosen_genre:\n",
        "              title = v['title']\n",
        "              url = v['movie link']\n",
        "              description = v['description']\n",
        "              movie_links.append(url)\n",
        "              titles.append(title)\n",
        "              descriptions.append(description)\n",
        "      \n",
        "      zipped_movies = zip(titles, movie_links, descriptions)\n",
        "      movie_info = list(zipped_movies)\n",
        "\n",
        "      print('Great choice!')\n",
        "      print(f'here is a list of {len(chosen_genre)} {chosen_genre} movies for your viewing pleasure:')\n",
        "      \n",
        "      pprint(titles)\n",
        "      print(movie_info[0])\n",
        "      \n",
        "  return movie_info"
      ]
    }
  ]
}